{
 "cells": [
  {
   "cell_type": "code",
   "execution_count": 29,
   "metadata": {},
   "outputs": [],
   "source": [
    "import os\n",
    "from pyspark import SparkConf,SparkContext\n",
    "from pyspark.sql import SparkSession\n",
    "import pandas as pd\n",
    "import json"
   ]
  },
  {
   "cell_type": "code",
   "execution_count": 8,
   "metadata": {},
   "outputs": [
    {
     "data": {
      "text/plain": [
       "'\\ntest\\n'"
      ]
     },
     "execution_count": 8,
     "metadata": {},
     "output_type": "execute_result"
    }
   ],
   "source": [
    "'''\n",
    "test\n",
    "'''"
   ]
  },
  {
   "cell_type": "code",
   "execution_count": 31,
   "metadata": {},
   "outputs": [
    {
     "name": "stdout",
     "output_type": "stream",
     "text": [
      "DataFrame[Column1: int, cprov: int, cdist: int, kabupaten: string, city_id_emis: int, city: string, province_id: int, nama_provinsi: string, provinsi_induk_id: int, kabupaten_induk_id: int]\n"
     ]
    }
   ],
   "source": [
    "# conf = SparkConf() \\\n",
    "#     .setAppName(\"TgTest\")\\\n",
    "#     .config(\"spark.driver.extraJavaOptions\",\n",
    "#     \"--add-opens=java.base/sun.nio.ch=ALL-UNNAMED --add-opens=java.base/java.lang=ALL-UNNAMED --add-opens=java.base/java.util=ALL-UNNAMED\",)\n",
    "# sc= SparkContext.getOrCreate(conf=conf)\n",
    "spark = SparkSession.builder.appName('Test').\\\n",
    "    config(\"spark.driver.extraJavaOptions\",\n",
    "    \"--add-opens=java.base/sun.nio.ch=ALL-UNNAMED --add-opens=java.base/java.lang=ALL-UNNAMED --add-opens=java.base/java.util=ALL-UNNAMED\")\\\n",
    "    .getOrCreate()\n",
    "\n",
    "## Get the table\n",
    "professionals_df = spark.read.format(\"jdbc\").option(\"url\", \"jdbc:mysql://localhost:3032/migrasi\") \\\n",
    "    .option(\"driver\", \"com.mysql.jdbc.Driver\").option(\"dbtable\", \"merger_loc_emis_siaga\") \\\n",
    "    .option(\"user\", \"root\").option(\"password\", \"AE72tHgFbFG09mDj\").load()\n",
    "    \n",
    "print(professionals_df)"
   ]
  },
  {
   "cell_type": "code",
   "execution_count": 33,
   "metadata": {},
   "outputs": [],
   "source": [
    "spark.stop()"
   ]
  },
  {
   "cell_type": "code",
   "execution_count": 34,
   "metadata": {},
   "outputs": [],
   "source": [
    "spark.stop()"
   ]
  },
  {
   "cell_type": "code",
   "execution_count": 35,
   "metadata": {},
   "outputs": [],
   "source": [
    "show_all_table = spark.read.format(\"jdbc\").option(\"url\", \"jdbc:mysql://localhost:3032/migrasi\") \\\n",
    "    .option(\"driver\", \"com.mysql.jdbc.Driver\").option(\"dbtable\", \"(SELECT table_name FROM information_schema.tables) as tbl\") \\\n",
    "    .option(\"user\", \"root\").option(\"password\", \"AE72tHgFbFG09mDj\").load()"
   ]
  },
  {
   "cell_type": "code",
   "execution_count": null,
   "metadata": {},
   "outputs": [],
   "source": [
    "show_all_table.show()"
   ]
  },
  {
   "cell_type": "code",
   "execution_count": null,
   "metadata": {},
   "outputs": [],
   "source": [
    "show_all_table.show()"
   ]
  },
  {
   "cell_type": "code",
   "execution_count": 24,
   "metadata": {},
   "outputs": [
    {
     "data": {
      "text/plain": [
       "[StructField(Column1,IntegerType,true),\n",
       " StructField(cprov,IntegerType,true),\n",
       " StructField(cdist,IntegerType,true),\n",
       " StructField(kabupaten,StringType,true),\n",
       " StructField(city_id_emis,IntegerType,true),\n",
       " StructField(city,StringType,true),\n",
       " StructField(province_id,IntegerType,true),\n",
       " StructField(nama_provinsi,StringType,true),\n",
       " StructField(provinsi_induk_id,IntegerType,true),\n",
       " StructField(kabupaten_induk_id,IntegerType,true)]"
      ]
     },
     "execution_count": 24,
     "metadata": {},
     "output_type": "execute_result"
    }
   ],
   "source": [
    "professionals_df.schema.fields"
   ]
  },
  {
   "cell_type": "code",
   "execution_count": 9,
   "metadata": {},
   "outputs": [
    {
     "data": {
      "text/plain": [
       "[{'metadata': {'scale': 0},\n",
       "  'name': 'Column1',\n",
       "  'nullable': True,\n",
       "  'type': 'integer'},\n",
       " {'metadata': {'scale': 0},\n",
       "  'name': 'cprov',\n",
       "  'nullable': True,\n",
       "  'type': 'integer'},\n",
       " {'metadata': {'scale': 0},\n",
       "  'name': 'cdist',\n",
       "  'nullable': True,\n",
       "  'type': 'integer'},\n",
       " {'metadata': {'scale': 0},\n",
       "  'name': 'kabupaten',\n",
       "  'nullable': True,\n",
       "  'type': 'string'},\n",
       " {'metadata': {'scale': 0},\n",
       "  'name': 'city_id_emis',\n",
       "  'nullable': True,\n",
       "  'type': 'integer'},\n",
       " {'metadata': {'scale': 0},\n",
       "  'name': 'city',\n",
       "  'nullable': True,\n",
       "  'type': 'string'},\n",
       " {'metadata': {'scale': 0},\n",
       "  'name': 'province_id',\n",
       "  'nullable': True,\n",
       "  'type': 'integer'},\n",
       " {'metadata': {'scale': 0},\n",
       "  'name': 'nama_provinsi',\n",
       "  'nullable': True,\n",
       "  'type': 'string'},\n",
       " {'metadata': {'scale': 0},\n",
       "  'name': 'provinsi_induk_id',\n",
       "  'nullable': True,\n",
       "  'type': 'integer'},\n",
       " {'metadata': {'scale': 0},\n",
       "  'name': 'kabupaten_induk_id',\n",
       "  'nullable': True,\n",
       "  'type': 'integer'}]"
      ]
     },
     "execution_count": 9,
     "metadata": {},
     "output_type": "execute_result"
    }
   ],
   "source": [
    "json.loads(professionals_df.schema.json())['fields']"
   ]
  },
  {
   "cell_type": "code",
   "execution_count": 12,
   "metadata": {},
   "outputs": [],
   "source": [
    "def saveSchema(spark_df,tablename):\n",
    "    fields_list = json.loads(spark_df.schema.json())['fields']\n",
    "    jsonSchema = {}\n",
    "    tablename = tablename\n",
    "    \n",
    "    for i in fields_list:\n",
    "        i.pop('metadata')\n",
    "            \n",
    "    jsonSchema = {}\n",
    "    for i in fields_list\n",
    "    \n",
    "    return fields_list"
   ]
  },
  {
   "cell_type": "code",
   "execution_count": 23,
   "metadata": {},
   "outputs": [],
   "source": [
    "def dbInput(dbName,db,tablename,ip,username,password,port,spark_session,\n",
    "    url = None,driver = None):\n",
    "    \n",
    "    \n",
    "    dbNameDict = {'mysql':{\"driver\":\"com.mysql.jdbc.Driver\",'url':'jdbc:mysql://{ip}:{port}/{db}'.format(ip=ip,port=port,db=db)}}\n",
    "    \n",
    "    if dbName in dbNameDict:\n",
    "        driver = dbNameDict[dbName]['driver']\n",
    "        url = dbNameDict[dbName]['url']\n",
    "    else:\n",
    "        if driver == None or url == None:\n",
    "            raise ValueError('driver class or url for custom jdbc is not defined') \n",
    "            \n",
    "    print(driver)\n",
    "    print(url)\n",
    "    \n",
    "    spark_input_df = spark_session.read.format(\"jdbc\").option(\"url\", url) \\\n",
    "                     .option(\"driver\", driver).option(\"dbtable\", tablename) \\\n",
    "                     .option(\"user\", username).option(\"password\",password).load()\n",
    "                     \n",
    "    df_schema = json.loads(spark_input_df.schema.json())['fields']\n",
    "    \n",
    "    for i in df_schema:\n",
    "        i.pop('metadata')\n",
    "                     \n",
    "    return spark_input_df, df_schema    "
   ]
  },
  {
   "cell_type": "code",
   "execution_count": 9,
   "metadata": {},
   "outputs": [
    {
     "ename": "ValueError",
     "evalue": "driver class or url for custom jdbc is not defined",
     "output_type": "error",
     "traceback": [
      "\u001b[1;31m---------------------------------------------------------------------------\u001b[0m",
      "\u001b[1;31mValueError\u001b[0m                                Traceback (most recent call last)",
      "Cell \u001b[1;32mIn[9], line 1\u001b[0m\n\u001b[1;32m----> 1\u001b[0m test_df,test_schema \u001b[39m=\u001b[39m dbInput(\u001b[39m'\u001b[39;49m\u001b[39maa\u001b[39;49m\u001b[39m'\u001b[39;49m,\u001b[39m'\u001b[39;49m\u001b[39mmigrasi\u001b[39;49m\u001b[39m'\u001b[39;49m,\u001b[39m'\u001b[39;49m\u001b[39mmerger_loc_emis_siaga\u001b[39;49m\u001b[39m'\u001b[39;49m,\u001b[39m'\u001b[39;49m\u001b[39mlocalhost\u001b[39;49m\u001b[39m'\u001b[39;49m,\u001b[39m'\u001b[39;49m\u001b[39mroot\u001b[39;49m\u001b[39m'\u001b[39;49m,\u001b[39m'\u001b[39;49m\u001b[39mAE72tHgFbFG09mDj\u001b[39;49m\u001b[39m'\u001b[39;49m,\u001b[39m'\u001b[39;49m\u001b[39m3032\u001b[39;49m\u001b[39m'\u001b[39;49m)\n",
      "Cell \u001b[1;32mIn[8], line 16\u001b[0m, in \u001b[0;36mdbInput\u001b[1;34m(dbName, db, tablename, ip, username, password, port, url, driver)\u001b[0m\n\u001b[0;32m     14\u001b[0m \u001b[39melse\u001b[39;00m:\n\u001b[0;32m     15\u001b[0m     \u001b[39mif\u001b[39;00m driver \u001b[39m==\u001b[39m \u001b[39mNone\u001b[39;00m \u001b[39mor\u001b[39;00m url \u001b[39m==\u001b[39m \u001b[39mNone\u001b[39;00m:\n\u001b[1;32m---> 16\u001b[0m         \u001b[39mraise\u001b[39;00m \u001b[39mValueError\u001b[39;00m(\u001b[39m'\u001b[39m\u001b[39mdriver class or url for custom jdbc is not defined\u001b[39m\u001b[39m'\u001b[39m) \n\u001b[0;32m     18\u001b[0m \u001b[39mprint\u001b[39m(driver)\n\u001b[0;32m     19\u001b[0m \u001b[39mprint\u001b[39m(url)\n",
      "\u001b[1;31mValueError\u001b[0m: driver class or url for custom jdbc is not defined"
     ]
    }
   ],
   "source": [
    "test_df,test_schema = dbInput('aa','migrasi','merger_loc_emis_siaga','localhost','root','AE72tHgFbFG09mDj','3032')\n"
   ]
  },
  {
   "cell_type": "code",
   "execution_count": 28,
   "metadata": {},
   "outputs": [
    {
     "name": "stdout",
     "output_type": "stream",
     "text": [
      "com.mysql.jdbc.Driver\n",
      "jdbc:mysql://localhost:3032/migrasi\n"
     ]
    }
   ],
   "source": [
    "test_df,test_schema = dbInput('mysql','migrasi','m_dosen','localhost','root','AE72tHgFbFG09mDj','3032',spark_session=spark)"
   ]
  },
  {
   "cell_type": "code",
   "execution_count": 27,
   "metadata": {},
   "outputs": [],
   "source": [
    "spark.stop()"
   ]
  },
  {
   "cell_type": "code",
   "execution_count": 6,
   "metadata": {},
   "outputs": [
    {
     "data": {
      "text/plain": [
       "[{'name': 'Column1', 'nullable': True, 'type': 'integer'},\n",
       " {'name': 'cprov', 'nullable': True, 'type': 'integer'},\n",
       " {'name': 'cdist', 'nullable': True, 'type': 'integer'},\n",
       " {'name': 'kabupaten', 'nullable': True, 'type': 'string'},\n",
       " {'name': 'city_id_emis', 'nullable': True, 'type': 'integer'},\n",
       " {'name': 'city', 'nullable': True, 'type': 'string'},\n",
       " {'name': 'province_id', 'nullable': True, 'type': 'integer'},\n",
       " {'name': 'nama_provinsi', 'nullable': True, 'type': 'string'},\n",
       " {'name': 'provinsi_induk_id', 'nullable': True, 'type': 'integer'},\n",
       " {'name': 'kabupaten_induk_id', 'nullable': True, 'type': 'integer'}]"
      ]
     },
     "execution_count": 6,
     "metadata": {},
     "output_type": "execute_result"
    }
   ],
   "source": [
    "test_schema"
   ]
  },
  {
   "cell_type": "code",
   "execution_count": 36,
   "metadata": {},
   "outputs": [],
   "source": [
    "import numpy as np\n"
   ]
  },
  {
   "cell_type": "code",
   "execution_count": 53,
   "metadata": {},
   "outputs": [
    {
     "data": {
      "text/plain": [
       "array([3, 4])"
      ]
     },
     "execution_count": 53,
     "metadata": {},
     "output_type": "execute_result"
    }
   ],
   "source": [
    "a = np.array([1,2,3,4,5,6])\n",
    "\n",
    "a[np.logical_and(a >2, a < 5)]\n"
   ]
  },
  {
   "cell_type": "code",
   "execution_count": 54,
   "metadata": {},
   "outputs": [],
   "source": [
    "x = np.arange(10)\n",
    "distr = [0.3, 0.5, 0.2]\n",
    "bins = np.histogram_bin_edges(x, len(distr))"
   ]
  },
  {
   "cell_type": "code",
   "execution_count": 57,
   "metadata": {},
   "outputs": [
    {
     "ename": "SyntaxError",
     "evalue": "illegal target for annotation (803610268.py, line 1)",
     "output_type": "error",
     "traceback": [
      "\u001b[1;36m  Cell \u001b[1;32mIn[57], line 1\u001b[1;36m\u001b[0m\n\u001b[1;33m    2:3\u001b[0m\n\u001b[1;37m    ^\u001b[0m\n\u001b[1;31mSyntaxError\u001b[0m\u001b[1;31m:\u001b[0m illegal target for annotation\n"
     ]
    }
   ],
   "source": [
    "\n"
   ]
  }
 ],
 "metadata": {
  "kernelspec": {
   "display_name": "Python 3",
   "language": "python",
   "name": "python3"
  },
  "language_info": {
   "codemirror_mode": {
    "name": "ipython",
    "version": 3
   },
   "file_extension": ".py",
   "mimetype": "text/x-python",
   "name": "python",
   "nbconvert_exporter": "python",
   "pygments_lexer": "ipython3",
   "version": "3.10.4"
  },
  "orig_nbformat": 4
 },
 "nbformat": 4,
 "nbformat_minor": 2
}
